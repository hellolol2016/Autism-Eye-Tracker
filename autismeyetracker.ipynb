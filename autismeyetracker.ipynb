{
 "cells": [
  {
   "cell_type": "code",
   "execution_count": 13,
   "id": "826af2b4-5bed-4732-8cd8-fbbd08b5e91f",
   "metadata": {},
   "outputs": [
    {
     "name": "stderr",
     "output_type": "stream",
     "text": [
      "/tmp/ipykernel_221/445763022.py:10: FutureWarning: The frame.append method is deprecated and will be removed from pandas in a future version. Use pandas.concat instead.\n",
      "  data = data.append(pd.read_csv(\"data/3_edited.csv\"))\n"
     ]
    }
   ],
   "source": [
    "import pandas as pd\n",
    "import numpy as np\n",
    "import tensorflow as tf\n",
    "from sklearn.model_selection import train_test_split\n",
    "from sklearn.preprocessing import StandardScaler\n",
    "from sklearn.metrics import accuracy_score\n",
    "\n",
    "# Load the dataset\n",
    "data = pd.read_csv('data/25_edited.csv') \n",
    "data = data.append(pd.read_csv(\"data/3_edited.csv\"))\n",
    "data = data.replace('-', np.nan)\n",
    "\n",
    "# Define feature columns and the target column\n",
    "feature_columns = ['Index Right', 'Index Left',\n",
    "                   'Pupil Diameter Right [mm]', 'Pupil Diameter Left [mm]',\n",
    "                   'Point of Regard Right X [px]', 'Point of Regard Right Y [px]',\n",
    "                   'Point of Regard Left X [px]', 'Point of Regard Left Y [px]']\n",
    "target_column = 'Class'\n",
    "\n",
    "# Split the data into features (X) and the target (y)\n",
    "X = data[feature_columns]\n",
    "y = data[target_column]\n",
    "\n",
    "# Split the data into training and testing sets\n",
    "X_train, X_test, y_train, y_test = train_test_split(X, y, test_size=0.2, random_state=42)\n",
    "\n",
    "# Standardize the features\n",
    "scaler = StandardScaler()\n",
    "X_train = scaler.fit_transform(X_train)\n",
    "X_test = scaler.transform(X_test)"
   ]
  },
  {
   "cell_type": "code",
   "execution_count": 14,
   "id": "bd020112-1b80-4239-8a40-d28cbc15c20d",
   "metadata": {},
   "outputs": [],
   "source": [
    "\n",
    "model = tf.keras.Sequential([\n",
    "    tf.keras.layers.Dense(128, activation='relu', input_shape=(X_train.shape[1],)),\n",
    "    tf.keras.layers.Dense(64, activation='relu'),\n",
    "    tf.keras.layers.Dense(1, activation='sigmoid')  \n",
    "])"
   ]
  },
  {
   "cell_type": "code",
   "execution_count": 15,
   "id": "bdcf8c7c-4ac5-4fad-b2ab-124b1e98937f",
   "metadata": {},
   "outputs": [],
   "source": [
    "model.compile(optimizer='adam', loss='binary_crossentropy', metrics=['accuracy'])"
   ]
  },
  {
   "cell_type": "code",
   "execution_count": 16,
   "id": "ada20582-7373-447f-8fdb-79b78dda9b63",
   "metadata": {},
   "outputs": [
    {
     "name": "stdout",
     "output_type": "stream",
     "text": [
      "Epoch 1/10\n",
      "2633/2633 [==============================] - 4s 1ms/step - loss: 0.6346 - accuracy: 0.6711 - val_loss: 0.6385 - val_accuracy: 0.6639\n",
      "Epoch 2/10\n",
      "2633/2633 [==============================] - 4s 1ms/step - loss: 0.6336 - accuracy: 0.6712 - val_loss: 0.6388 - val_accuracy: 0.6639\n",
      "Epoch 3/10\n",
      "2633/2633 [==============================] - 5s 2ms/step - loss: 0.6336 - accuracy: 0.6712 - val_loss: 0.6385 - val_accuracy: 0.6639\n",
      "Epoch 4/10\n",
      "2633/2633 [==============================] - 5s 2ms/step - loss: 0.6336 - accuracy: 0.6712 - val_loss: 0.6386 - val_accuracy: 0.6639\n",
      "Epoch 5/10\n",
      "2633/2633 [==============================] - 3s 1ms/step - loss: 0.6336 - accuracy: 0.6712 - val_loss: 0.6389 - val_accuracy: 0.6639\n",
      "Epoch 6/10\n",
      "2633/2633 [==============================] - 4s 2ms/step - loss: 0.6336 - accuracy: 0.6712 - val_loss: 0.6385 - val_accuracy: 0.6639\n",
      "Epoch 7/10\n",
      "2633/2633 [==============================] - 9s 4ms/step - loss: 0.6335 - accuracy: 0.6712 - val_loss: 0.6384 - val_accuracy: 0.6639\n",
      "Epoch 8/10\n",
      "2633/2633 [==============================] - 5s 2ms/step - loss: 0.6335 - accuracy: 0.6712 - val_loss: 0.6392 - val_accuracy: 0.6639\n",
      "Epoch 9/10\n",
      "2633/2633 [==============================] - 2s 916us/step - loss: 0.6335 - accuracy: 0.6712 - val_loss: 0.6385 - val_accuracy: 0.6639\n",
      "Epoch 10/10\n",
      "2633/2633 [==============================] - 3s 1ms/step - loss: 0.6336 - accuracy: 0.6712 - val_loss: 0.6384 - val_accuracy: 0.6639\n"
     ]
    },
    {
     "data": {
      "text/plain": [
       "<keras.callbacks.History at 0x3ff350ab700>"
      ]
     },
     "execution_count": 16,
     "metadata": {},
     "output_type": "execute_result"
    }
   ],
   "source": [
    "# Train the model\n",
    "model.fit(X_train, y_train, epochs=10, batch_size=32, validation_split=0.2)\n"
   ]
  },
  {
   "cell_type": "code",
   "execution_count": 17,
   "id": "fea6022d-428b-4320-9b32-ff2fb06b9f6d",
   "metadata": {},
   "outputs": [
    {
     "name": "stdout",
     "output_type": "stream",
     "text": [
      "823/823 [==============================] - 1s 584us/step\n",
      "Test Accuracy: 66.87%\n"
     ]
    }
   ],
   "source": [
    "# Evaluate the model on the test set\n",
    "y_pred = model.predict(X_test)\n",
    "y_pred_binary = [1 if pred > 0.5 else 0 for pred in y_pred]\n",
    "\n",
    "accuracy = accuracy_score(y_test, y_pred_binary)\n",
    "print(f'Test Accuracy: {accuracy * 100:.2f}%')"
   ]
  },
  {
   "cell_type": "code",
   "execution_count": null,
   "id": "83e818f9-c3e4-4dc7-86db-776913548f4f",
   "metadata": {},
   "outputs": [],
   "source": []
  }
 ],
 "metadata": {
  "kernelspec": {
   "display_name": "Python 3 (ipykernel)",
   "language": "python",
   "name": "python3"
  },
  "language_info": {
   "codemirror_mode": {
    "name": "ipython",
    "version": 3
   },
   "file_extension": ".py",
   "mimetype": "text/x-python",
   "name": "python",
   "nbconvert_exporter": "python",
   "pygments_lexer": "ipython3",
   "version": "3.10.6"
  }
 },
 "nbformat": 4,
 "nbformat_minor": 5
}
